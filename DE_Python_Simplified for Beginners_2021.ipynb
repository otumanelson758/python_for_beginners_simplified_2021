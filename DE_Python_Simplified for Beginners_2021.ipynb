{
 "cells": [
  {
   "cell_type": "markdown",
   "id": "b98e266e",
   "metadata": {},
   "source": [
    "# DE_Python_Simplified for Beginners_2021\n",
    "\n",
    "**prepared by Nelson**\n",
    "+ If you've always wanted to learn to program with Python, here's an opportunity."
   ]
  },
  {
   "cell_type": "markdown",
   "id": "db910f6c",
   "metadata": {},
   "source": [
    "**How Do I Start Learning Python?**"
   ]
  },
  {
   "cell_type": "markdown",
   "id": "65264621",
   "metadata": {},
   "source": [
    "Python is not only one of the easiest programming languages to learn, but it's also one of the most dominant, and that's not likely to change anytime soon. So, if you've been thinking about switching to a well-paid tech career, but thought it might be too hard or didn't know where to start."
   ]
  },
  {
   "cell_type": "markdown",
   "id": "9bff87a1",
   "metadata": {},
   "source": [
    "**Python**\n",
    "is an interpreted high-level general-purpose programming language. Its design philosophy emphasizes code readability with its use of significant indentation. Its language constructs as well as its object-oriented approach aim to help programmers write clear, logical code for small and large-scale projects."
   ]
  },
  {
   "cell_type": "markdown",
   "id": "a9785dff",
   "metadata": {},
   "source": [
    "I will not look into the history of python as programming language but you still can a read it by yourself.\n",
    "click on the below link https://www.python.org/doc/"
   ]
  },
  {
   "cell_type": "markdown",
   "id": "5adb7ee9",
   "metadata": {},
   "source": [
    "**Variables and Strings**\n",
    "We begin with Variables and Strings."
   ]
  },
  {
   "cell_type": "code",
   "execution_count": 1,
   "id": "c9bf83f2",
   "metadata": {},
   "outputs": [],
   "source": [
    "#Hello world with a variable.\n",
    "print('Hello world!')"
   ]
  },
  {
   "cell_type": "code",
   "execution_count": 2,
   "id": "089d4a41",
   "metadata": {},
   "outputs": [],
   "source": [
    "msg = \"Hello world!\"\n",
    "print(msg)\n"
   ]
  },
  {
   "cell_type": "markdown",
   "id": "5c2ba7f6",
   "metadata": {},
   "source": [
    "**Concatenation (combining strings)**"
   ]
  },
  {
   "cell_type": "code",
   "execution_count": 3,
   "id": "d6c637d8",
   "metadata": {},
   "outputs": [],
   "source": [
    "first_name = 'Teresiah'\n",
    "last_name = 'Branson'\n",
    "full_name = first_name + ' ' + last_name\n",
    "print(full_name)"
   ]
  },
  {
   "cell_type": "markdown",
   "id": "4ecd2b1f",
   "metadata": {},
   "source": [
    "**List**"
   ]
  },
  {
   "cell_type": "markdown",
   "id": "de599609",
   "metadata": {},
   "source": [
    "A list stores a series of items in a particular order. You \n",
    "access items using an index, or within a loop."
   ]
  },
  {
   "cell_type": "code",
   "execution_count": 4,
   "id": "eaffd0d9",
   "metadata": {},
   "outputs": [],
   "source": [
    "#we can make a list\n",
    "fruits = ['banana', 'mango', 'ovocado','orange']\n",
    "#Get the items from the list\n",
    "first_fruit = fruits[0]"
   ]
  },
  {
   "cell_type": "code",
   "execution_count": 5,
   "id": "96f1b6b8",
   "metadata": {},
   "outputs": [
    {
     "data": {
      "text/plain": [
       "'banana'"
      ]
     },
     "execution_count": 5,
     "metadata": {},
     "output_type": "execute_result"
    }
   ],
   "source": [
    "first_fruit"
   ]
  },
  {
   "cell_type": "code",
   "execution_count": 6,
   "id": "54b37a8b",
   "metadata": {},
   "outputs": [],
   "source": [
    "#we can get the last item in the list\n",
    "last_fruit=fruits[-1]"
   ]
  },
  {
   "cell_type": "code",
   "execution_count": 7,
   "id": "ef9e1f28",
   "metadata": {},
   "outputs": [
    {
     "data": {
      "text/plain": [
       "'orange'"
      ]
     },
     "execution_count": 7,
     "metadata": {},
     "output_type": "execute_result"
    }
   ],
   "source": [
    "last_fruit"
   ]
  },
  {
   "cell_type": "markdown",
   "id": "37cb33c5",
   "metadata": {},
   "source": [
    "**Looping through the list**"
   ]
  },
  {
   "cell_type": "code",
   "execution_count": 8,
   "id": "2d1ff34d",
   "metadata": {},
   "outputs": [
    {
     "name": "stdout",
     "output_type": "stream",
     "text": [
      "banana\n",
      "mango\n",
      "ovocado\n",
      "orange\n"
     ]
    }
   ],
   "source": [
    "for fruit in fruits:\n",
    " print(fruit)"
   ]
  },
  {
   "cell_type": "code",
   "execution_count": 9,
   "id": "7e2754fa",
   "metadata": {},
   "outputs": [],
   "source": [
    "#Adding items to a list\n",
    "fruits = []\n",
    "fruits.append('banaba')\n",
    "fruits.append('mango')\n",
    "fruits.append('ovacado')\n",
    "fruits.append('orange')"
   ]
  },
  {
   "cell_type": "markdown",
   "id": "fe5e2f13",
   "metadata": {},
   "source": [
    "**Making numerical lists**"
   ]
  },
  {
   "cell_type": "code",
   "execution_count": 10,
   "id": "01a81249",
   "metadata": {},
   "outputs": [],
   "source": [
    "squares = []\n",
    "for x in range(1, 11):\n",
    " squares.append(x**2)"
   ]
  },
  {
   "cell_type": "code",
   "execution_count": 11,
   "id": "bad0b92f",
   "metadata": {},
   "outputs": [
    {
     "data": {
      "text/plain": [
       "[1, 4, 9, 16, 25, 36, 49, 64, 81, 100]"
      ]
     },
     "execution_count": 11,
     "metadata": {},
     "output_type": "execute_result"
    }
   ],
   "source": [
    "squares"
   ]
  },
  {
   "cell_type": "code",
   "execution_count": 12,
   "id": "8adca950",
   "metadata": {},
   "outputs": [],
   "source": [
    "#List comprehensions\n",
    "squares = [x**2 for x in range(1, 11)]"
   ]
  },
  {
   "cell_type": "code",
   "execution_count": 13,
   "id": "bb63f166",
   "metadata": {},
   "outputs": [
    {
     "data": {
      "text/plain": [
       "[1, 4, 9, 16, 25, 36, 49, 64, 81, 100]"
      ]
     },
     "execution_count": 13,
     "metadata": {},
     "output_type": "execute_result"
    }
   ],
   "source": [
    "squares"
   ]
  },
  {
   "cell_type": "code",
   "execution_count": 14,
   "id": "8e2be021",
   "metadata": {},
   "outputs": [],
   "source": [
    "#**Slicing a list**\n",
    "finishers = ['felix', 'yohance', 'david', 'cheye']\n",
    "first_two = finishers[:2]# you can slice the third in the list too"
   ]
  },
  {
   "cell_type": "code",
   "execution_count": 15,
   "id": "fab562b2",
   "metadata": {},
   "outputs": [
    {
     "data": {
      "text/plain": [
       "['felix', 'yohance']"
      ]
     },
     "execution_count": 15,
     "metadata": {},
     "output_type": "execute_result"
    }
   ],
   "source": [
    "first_two"
   ]
  },
  {
   "cell_type": "code",
   "execution_count": 16,
   "id": "a9dda0ec",
   "metadata": {},
   "outputs": [],
   "source": [
    "#Copying a list\n",
    "copy_of_fruits = fruits[:]"
   ]
  },
  {
   "cell_type": "code",
   "execution_count": 17,
   "id": "ae09e6d3",
   "metadata": {},
   "outputs": [
    {
     "data": {
      "text/plain": [
       "['banaba', 'mango', 'ovacado', 'orange']"
      ]
     },
     "execution_count": 17,
     "metadata": {},
     "output_type": "execute_result"
    }
   ],
   "source": [
    "copy_of_fruits"
   ]
  },
  {
   "cell_type": "markdown",
   "id": "bd117090",
   "metadata": {},
   "source": [
    "**Tuple**"
   ]
  },
  {
   "cell_type": "markdown",
   "id": "f475893d",
   "metadata": {},
   "source": [
    "- Tuples are similar to lists, but the items in a tuple can't be \n",
    "modified."
   ]
  },
  {
   "cell_type": "markdown",
   "id": "3093c10a",
   "metadata": {},
   "source": [
    "Can we make a tuple since know we know what is a tuple?"
   ]
  },
  {
   "cell_type": "code",
   "execution_count": 18,
   "id": "cff6d57a",
   "metadata": {},
   "outputs": [
    {
     "data": {
      "text/plain": [
       "(1920, 1080)"
      ]
     },
     "execution_count": 18,
     "metadata": {},
     "output_type": "execute_result"
    }
   ],
   "source": [
    "#making a tuple\n",
    "dimension = (1920, 1080)\n",
    "dimension"
   ]
  },
  {
   "cell_type": "markdown",
   "id": "0d91b75f",
   "metadata": {},
   "source": [
    "**if statements**\n",
    "+ If statements are used to test for particular conditions and \n",
    "    respond appropriately."
   ]
  },
  {
   "cell_type": "markdown",
   "id": "ab9534ed",
   "metadata": {},
   "source": [
    "**Conditional tests**"
   ]
  },
  {
   "cell_type": "code",
   "execution_count": 19,
   "id": "7703258a",
   "metadata": {},
   "outputs": [
    {
     "data": {
      "text/plain": [
       "'\"\\nequals x==42\\nnot equal x!= 42\\ngreater than x > 42\\nor equal to x >= 42\\nless than x < 42\\nor equal to x <= 42'"
      ]
     },
     "execution_count": 19,
     "metadata": {},
     "output_type": "execute_result"
    }
   ],
   "source": [
    "#we need to understand the below first\n",
    "\"\"\"\"\n",
    "equals x==42\n",
    "not equal x!= 42\n",
    "greater than x > 42\n",
    "or equal to x >= 42\n",
    "less than x < 42\n",
    "or equal to x <= 42\"\"\""
   ]
  },
  {
   "cell_type": "code",
   "execution_count": 20,
   "id": "9e63de4d",
   "metadata": {},
   "outputs": [
    {
     "data": {
      "text/plain": [
       "False"
      ]
     },
     "execution_count": 20,
     "metadata": {},
     "output_type": "execute_result"
    }
   ],
   "source": [
    "#Conditional test with lists\n",
    "'banana' in fruits\n",
    "'orange' not in fruits"
   ]
  },
  {
   "cell_type": "code",
   "execution_count": 21,
   "id": "a6f4a41b",
   "metadata": {},
   "outputs": [
    {
     "data": {
      "text/plain": [
       "True"
      ]
     },
     "execution_count": 21,
     "metadata": {},
     "output_type": "execute_result"
    }
   ],
   "source": [
    "# we can also test the below\n",
    "'banana' in fruits\n",
    "'cassava' not in fruits"
   ]
  },
  {
   "cell_type": "markdown",
   "id": "de800e51",
   "metadata": {},
   "source": [
    "+ cassava is not a fruit and its not in our list"
   ]
  },
  {
   "cell_type": "markdown",
   "id": "f71c50e6",
   "metadata": {},
   "source": [
    "**Assigning boolean values**"
   ]
  },
  {
   "cell_type": "code",
   "execution_count": 22,
   "id": "3fd7fa11",
   "metadata": {},
   "outputs": [],
   "source": [
    "game_active = True\n",
    "can_edit = False"
   ]
  },
  {
   "cell_type": "code",
   "execution_count": 23,
   "id": "069c9560",
   "metadata": {},
   "outputs": [
    {
     "name": "stdout",
     "output_type": "stream",
     "text": [
      "You can vote!\n"
     ]
    }
   ],
   "source": [
    "#A simple if test\n",
    "age=20\n",
    "if age >= 18:\n",
    " print(\"You can vote!\")"
   ]
  },
  {
   "cell_type": "code",
   "execution_count": 24,
   "id": "7fca522e",
   "metadata": {},
   "outputs": [],
   "source": [
    "#if-elif-else statements\n",
    "\n",
    "if age < 4:\n",
    " ticket_price = 0\n",
    "elif age < 18:\n",
    " ticket_price = 10\n",
    "else:\n",
    " ticket_price = 15"
   ]
  },
  {
   "cell_type": "markdown",
   "id": "f6a14b0b",
   "metadata": {},
   "source": [
    "**Dictionaries**"
   ]
  },
  {
   "cell_type": "code",
   "execution_count": 25,
   "id": "2381c828",
   "metadata": {},
   "outputs": [],
   "source": [
    "#Dictionaries store connections between pieces of \n",
    "#information. Each item in a dictionary is a key-value pair\n"
   ]
  },
  {
   "cell_type": "markdown",
   "id": "1e152d67",
   "metadata": {},
   "source": [
    "**A simple dictionary**"
   ]
  },
  {
   "cell_type": "code",
   "execution_count": 26,
   "id": "35eac34e",
   "metadata": {},
   "outputs": [],
   "source": [
    "alien = {'color': 'green', 'points': 5}"
   ]
  },
  {
   "cell_type": "code",
   "execution_count": 27,
   "id": "e9ddf28e",
   "metadata": {},
   "outputs": [
    {
     "data": {
      "text/plain": [
       "{'color': 'green', 'points': 5}"
      ]
     },
     "execution_count": 27,
     "metadata": {},
     "output_type": "execute_result"
    }
   ],
   "source": [
    "alien"
   ]
  },
  {
   "cell_type": "code",
   "execution_count": 28,
   "id": "2c247647",
   "metadata": {},
   "outputs": [
    {
     "name": "stdout",
     "output_type": "stream",
     "text": [
      "The alien's color is green\n"
     ]
    }
   ],
   "source": [
    "#Accessing a value\n",
    "print(\"The alien's color is \" + alien['color'])"
   ]
  },
  {
   "cell_type": "code",
   "execution_count": 29,
   "id": "9b5dc8b0",
   "metadata": {},
   "outputs": [],
   "source": [
    "#Adding a new key-value pair\n",
    "alien['x_position'] = 0"
   ]
  },
  {
   "cell_type": "markdown",
   "id": "34a610cc",
   "metadata": {},
   "source": [
    "**Looping through all key-value pairs**"
   ]
  },
  {
   "cell_type": "code",
   "execution_count": 30,
   "id": "a42b0bba",
   "metadata": {},
   "outputs": [
    {
     "name": "stdout",
     "output_type": "stream",
     "text": [
      "Kamau loves 17\n",
      "Washington loves 4\n"
     ]
    }
   ],
   "source": [
    "fav_numbers = {'Kamau': 17, 'Washington': 4}\n",
    "for name, number in fav_numbers.items():\n",
    "    print(name + ' loves ' + str(number))\n"
   ]
  },
  {
   "cell_type": "markdown",
   "id": "c177603b",
   "metadata": {},
   "source": [
    "**Looping through all keys**"
   ]
  },
  {
   "cell_type": "code",
   "execution_count": 31,
   "id": "f54944ea",
   "metadata": {},
   "outputs": [
    {
     "name": "stdout",
     "output_type": "stream",
     "text": [
      "Teresa loves a number\n",
      "Lucy loves a number\n"
     ]
    }
   ],
   "source": [
    "fav_numbers = {'Teresa': 17, 'Lucy': 4} \n",
    "for name in fav_numbers.keys():\n",
    "    print(name + ' loves a number')"
   ]
  },
  {
   "cell_type": "markdown",
   "id": "59ea59fe",
   "metadata": {},
   "source": [
    "**Looping through all the values**"
   ]
  },
  {
   "cell_type": "code",
   "execution_count": 32,
   "id": "ef9cf6fd",
   "metadata": {},
   "outputs": [
    {
     "name": "stdout",
     "output_type": "stream",
     "text": [
      "17 is a favorite\n",
      "4 is a favorite\n"
     ]
    }
   ],
   "source": [
    "fav_numbers = {'eric': 17, 'ever': 4}\n",
    "for number in fav_numbers.values():\n",
    "    print(str(number) + ' is a favorite')\n"
   ]
  },
  {
   "cell_type": "markdown",
   "id": "fc30c03f",
   "metadata": {},
   "source": [
    "**User input**"
   ]
  },
  {
   "cell_type": "markdown",
   "id": "001a9d30",
   "metadata": {},
   "source": [
    "+ Your programs can prompt the user for input. All input is stored as a string."
   ]
  },
  {
   "cell_type": "code",
   "execution_count": 33,
   "id": "c6cbea08",
   "metadata": {},
   "outputs": [
    {
     "name": "stdout",
     "output_type": "stream",
     "text": [
      "What's your name? Selina Amakobe\n",
      "Hello, Selina Amakobe!\n"
     ]
    }
   ],
   "source": [
    "#Prompting for a value\n",
    "name = input(\"What's your name? \")#asks the user to input his name,\n",
    "print(\"Hello, \" + name + \"!\")#prints the results on console"
   ]
  },
  {
   "cell_type": "markdown",
   "id": "50576b33",
   "metadata": {},
   "source": [
    "**user input**"
   ]
  },
  {
   "cell_type": "markdown",
   "id": "2f3f144c",
   "metadata": {},
   "source": [
    "+ Your programs can prompt the user for input. All input is stored as a string."
   ]
  },
  {
   "cell_type": "code",
   "execution_count": 34,
   "id": "61954839",
   "metadata": {},
   "outputs": [
    {
     "name": "stdout",
     "output_type": "stream",
     "text": [
      "How old are you? 18\n",
      "What's the value of pi?3.14\n"
     ]
    }
   ],
   "source": [
    "#Prompting for a value\n",
    "\n",
    "age = input(\"How old are you? \")\n",
    "age = int(age)\n",
    "pi = input(\"What's the value of pi?\")\n",
    "pi = float(pi)\n"
   ]
  },
  {
   "cell_type": "markdown",
   "id": "3d46a66a",
   "metadata": {},
   "source": [
    "**While Loops**"
   ]
  },
  {
   "cell_type": "code",
   "execution_count": 35,
   "id": "13543622",
   "metadata": {},
   "outputs": [],
   "source": [
    "#A while loop repeats a block of code as long as a certain condition is true."
   ]
  },
  {
   "cell_type": "code",
   "execution_count": 36,
   "id": "6e96a7e6",
   "metadata": {},
   "outputs": [],
   "source": [
    "#A simple while loop"
   ]
  },
  {
   "cell_type": "code",
   "execution_count": 37,
   "id": "b046cea6",
   "metadata": {},
   "outputs": [
    {
     "name": "stdout",
     "output_type": "stream",
     "text": [
      "1\n",
      "2\n",
      "3\n",
      "4\n",
      "5\n"
     ]
    }
   ],
   "source": [
    "current_value = 1\n",
    "while current_value <= 5:\n",
    "    print(current_value) \n",
    "    current_value += 1\n"
   ]
  },
  {
   "cell_type": "code",
   "execution_count": null,
   "id": "f441295a",
   "metadata": {},
   "outputs": [
    {
     "name": "stdout",
     "output_type": "stream",
     "text": [
      "What's your message? Practice Practice Practice\n",
      "Practice Practice Practice\n",
      "What's your message? Practice Practice Practice on this notebook\n",
      "Practice Practice Practice on this notebook\n"
     ]
    }
   ],
   "source": [
    "#Letting the user choose when to quit\n",
    "msg = ''\n",
    "while msg != 'quit':\n",
    "    msg = input(\"What's your message? \")\n",
    "    print(msg)"
   ]
  },
  {
   "cell_type": "markdown",
   "id": "1980b7c5",
   "metadata": {},
   "source": [
    "**Functions**"
   ]
  },
  {
   "cell_type": "markdown",
   "id": "4ed751b0",
   "metadata": {},
   "source": [
    "Functions are named blocks of code, designed to do one specific job. Information passed to a function is called an argument, and information received by a function is called a parameter"
   ]
  },
  {
   "cell_type": "code",
   "execution_count": null,
   "id": "ae91fae2",
   "metadata": {},
   "outputs": [],
   "source": [
    "#A simple function\n",
    "def greet_user():\n",
    "\"\"\"Display a simple greeting.\"\"\" print(\"Hello!\")\n",
    "\n",
    "greet_user()\n"
   ]
  },
  {
   "cell_type": "code",
   "execution_count": null,
   "id": "686366ed",
   "metadata": {},
   "outputs": [],
   "source": [
    "#Passing an argument\n",
    "def greet_user(username):\n",
    "\"\"\"Display a personalized greeting.\"\"\"\n",
    "    print(\"Hello, \" + username + \"!\")\n",
    "greet_user('jesse')\n"
   ]
  },
  {
   "cell_type": "markdown",
   "id": "752f656b",
   "metadata": {},
   "source": [
    "**Default values for parameters**"
   ]
  },
  {
   "cell_type": "code",
   "execution_count": null,
   "id": "206d7c4d",
   "metadata": {},
   "outputs": [],
   "source": [
    "def make_pizza(topping='bacon'):\n",
    "    \"\"\"Make a single-topping pizza.\"\"\"\n",
    "    print(\"Have a \" + topping + \" pizza!\")\n",
    "make_pizza() make_pizza('pepperoni')\n"
   ]
  },
  {
   "cell_type": "markdown",
   "id": "3f2937f2",
   "metadata": {},
   "source": [
    "**Returning a value**"
   ]
  },
  {
   "cell_type": "code",
   "execution_count": null,
   "id": "bf680e8d",
   "metadata": {},
   "outputs": [],
   "source": [
    "def add_numbers(x, y):\n",
    "\"\"\"Add two numbers and return the sum.\"\"\" return x + y\n",
    "sum = add_numbers(3, 5)\n",
    "    print(sum)"
   ]
  },
  {
   "cell_type": "markdown",
   "id": "aa0c05db",
   "metadata": {},
   "source": [
    "### Classes"
   ]
  },
  {
   "cell_type": "markdown",
   "id": "ad5934c6",
   "metadata": {},
   "source": [
    "A class defines the behavior of an object and the kind of information an object can store. The information in a class is stored in attributes, and functions that belong to a class are called methods. A child class inherits the attributes and methods from its parent class."
   ]
  },
  {
   "cell_type": "code",
   "execution_count": null,
   "id": "a8a260e4",
   "metadata": {},
   "outputs": [],
   "source": [
    "#Creating a dog class\n",
    "class Dog():\n",
    "\"\"\"Represent a dog.\"\"\"\n",
    "\n",
    "def init (self, name): \"\"\"Initialize dog object.\"\"\" self.name = name\n",
    "\n",
    "def sit(self):\n",
    "\"\"\"Simulate sitting.\"\"\" print(self.name + \" is sitting.\")\n",
    "\n",
    "my_dog = Dog('Peso')\n",
    "\n",
    "print(my_dog.name + \" is a great dog!\") my_dog.sit()"
   ]
  },
  {
   "cell_type": "markdown",
   "id": "1eff63bd",
   "metadata": {},
   "source": [
    "**Inheritance**"
   ]
  },
  {
   "cell_type": "code",
   "execution_count": null,
   "id": "911b4546",
   "metadata": {},
   "outputs": [],
   "source": [
    "class SARDog(Dog):\n",
    "\"\"\"Represent a search dog.\"\"\"\n",
    "\n",
    "def init (self, name):\n",
    "    \"\"\"Initialize the sardog.\"\"\"\n",
    "    super(). init (name)\n",
    "def search(self): \"\"\"Simulate searching.\"\"\"\n",
    "print(self.name + \" is searching.\") my_dog = SARDog('Willie')\n",
    "print(my_dog.name + \" is a search dog.\") my_dog.sit()\n",
    "my_dog.search()"
   ]
  },
  {
   "cell_type": "markdown",
   "id": "d5a7b4d2",
   "metadata": {},
   "source": [
    "**Infinite Skills**\n",
    "+ If you had infinite programming skills, what would you build?"
   ]
  },
  {
   "cell_type": "markdown",
   "id": "8ed76f57",
   "metadata": {},
   "source": [
    "As you're learning to program, it's helpful to think about the real-world projects you'd like to create. It's a good habit to keep an \"ideas\" notebook that you can refer to whenever you want to start a new project. If you haven't done so already, take a few minutes and describe three projects you'd like to create."
   ]
  },
  {
   "cell_type": "markdown",
   "id": "b51b6d17",
   "metadata": {},
   "source": [
    "#### Working with files\n",
    "* Your programs can read from files and write to files. Files are opened in read mode ('r') by default, but can also be opened in write mode ('w') and append mode ('a')."
   ]
  },
  {
   "cell_type": "markdown",
   "id": "07303b49",
   "metadata": {},
   "source": [
    "**Reading a file and storing its lines**"
   ]
  },
  {
   "cell_type": "code",
   "execution_count": null,
   "id": "08211ac7",
   "metadata": {},
   "outputs": [],
   "source": [
    "filename = 'siddhartha.txt'\n",
    "with open(filename) as file_object:\n",
    "    lines = file_object.readlines()\n",
    "\n",
    "for line in lines: print(line)"
   ]
  },
  {
   "cell_type": "markdown",
   "id": "d53738db",
   "metadata": {},
   "source": [
    "**Writing to a file**"
   ]
  },
  {
   "cell_type": "code",
   "execution_count": null,
   "id": "f4d10b62",
   "metadata": {},
   "outputs": [],
   "source": [
    "filename = 'journal.txt'\n",
    "with open(filename, 'w')as file_object:\n",
    "    file_object.write(\"I love programming.\")"
   ]
  },
  {
   "cell_type": "markdown",
   "id": "7c96baf6",
   "metadata": {},
   "source": [
    "**Appending to a file**"
   ]
  },
  {
   "cell_type": "code",
   "execution_count": null,
   "id": "cd3a2194",
   "metadata": {},
   "outputs": [],
   "source": [
    "filename = 'journal.txt'\n",
    "with open(filename, 'a') as file_object: \n",
    "    file_object.write(\"\\nI love making games.\")"
   ]
  },
  {
   "cell_type": "code",
   "execution_count": null,
   "id": "2184977c",
   "metadata": {},
   "outputs": [],
   "source": [
    "filename = 'journal.txt'\n",
    "with open(filename, 'a') as file_object: \n",
    "    file_object.write(\"\\nI love making games.\")"
   ]
  },
  {
   "cell_type": "code",
   "execution_count": null,
   "id": "aee30e94",
   "metadata": {},
   "outputs": [],
   "source": []
  }
 ],
 "metadata": {
  "kernelspec": {
   "display_name": "Python 3",
   "language": "python",
   "name": "python3"
  },
  "language_info": {
   "codemirror_mode": {
    "name": "ipython",
    "version": 3
   },
   "file_extension": ".py",
   "mimetype": "text/x-python",
   "name": "python",
   "nbconvert_exporter": "python",
   "pygments_lexer": "ipython3",
   "version": "3.8.8"
  }
 },
 "nbformat": 4,
 "nbformat_minor": 5
}
